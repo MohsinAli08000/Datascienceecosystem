{
  "metadata": {
    "kernelspec": {
      "name": "python",
      "display_name": "Python (Pyodide)",
      "language": "python"
    },
    "language_info": {
      "codemirror_mode": {
        "name": "python",
        "version": 3
      },
      "file_extension": ".py",
      "mimetype": "text/x-python",
      "name": "python",
      "nbconvert_exporter": "python",
      "pygments_lexer": "ipython3",
      "version": "3.8"
    }
  },
  "nbformat_minor": 5,
  "nbformat": 4,
  "cells": [
    {
      "id": "4d8d2388",
      "cell_type": "markdown",
      "source": "# Data Science Tools and Ecosystem ",
      "metadata": {}
    },
    {
      "id": "1c0bed11",
      "cell_type": "markdown",
      "source": "In this notebook, Data Science Tools and Ecosystem are summarized.",
      "metadata": {}
    },
    {
      "id": "33d9f4ee-3554-4aa4-beed-f3c4da49be39",
      "cell_type": "raw",
      "source": "Some of the popular languages that Data Scientists use are:\n\n1.Python\n2.R\n3.SQL\n4.Scala\n5.Java\n6.C++\n7.Julia\n8.Javascript",
      "metadata": {}
    },
    {
      "id": "c558b3bc-00f9-417d-ae9b-01a367432887",
      "cell_type": "raw",
      "source": "Some of the commonly used libraries used by Data Scientists include:\n1.Pandas\n2.Numpy\n3.Matplotlib\n4.Seaborn\n5.Scikit-learn\n6.Keras\n7.TensorFlow\n8.PyTorch\n9.Apache Spark\n",
      "metadata": {}
    },
    {
      "id": "043ddfa0",
      "cell_type": "markdown",
      "source": "| Data Science Tools |\n|-------------------- |\n|JupyterNotebook|\n|RStudio|\n|AnaCoda|",
      "metadata": {}
    },
    {
      "id": "40a44dd3",
      "cell_type": "markdown",
      "source": "### Below are a few examples of evaluating arithmetic expressions in Python",
      "metadata": {}
    },
    {
      "id": "d4adc26e",
      "cell_type": "code",
      "source": "#This a simple arithmetic expression to mutiply then add integers\n(3*4)+5",
      "metadata": {
        "trusted": true
      },
      "outputs": [
        {
          "execution_count": 2,
          "output_type": "execute_result",
          "data": {
            "text/plain": "17"
          },
          "metadata": {}
        }
      ],
      "execution_count": 2
    },
    {
      "id": "1b7489be",
      "cell_type": "code",
      "source": "#This will convert 200 minutes to hours by diving by 60\n200/60",
      "metadata": {},
      "outputs": [
        {
          "data": {
            "text/plain": [
              "3.3333333333333335"
            ]
          },
          "execution_count": 3,
          "metadata": {},
          "output_type": "execute_result"
        }
      ],
      "execution_count": 3
    },
    {
      "id": "fef3cf75",
      "cell_type": "markdown",
      "source": "**Objectives:**\n- add comments to code cells\n- create marksdown cells\n- add order and unordered lists to markdown cells\n- formats content of markdown cells with heading styles",
      "metadata": {}
    },
    {
      "id": "4548ee36-7cd4-4241-bb1e-bf60faa073f1",
      "cell_type": "code",
      "source": "",
      "metadata": {
        "trusted": true
      },
      "outputs": [],
      "execution_count": null
    },
    {
      "id": "34d3279f-42f5-49b0-93ea-4f14e237ef01",
      "cell_type": "markdown",
      "source": "## Author\nLakshmi Hola                                                                                                                                         ",
      "metadata": {}
    },
    {
      "id": "f1f36fdf",
      "cell_type": "code",
      "source": "",
      "metadata": {},
      "outputs": [],
      "execution_count": null
    }
  ]
}